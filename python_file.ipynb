{
 "cells": [
  {
   "cell_type": "code",
   "execution_count": 4,
   "id": "83d4b656-c209-4833-b2db-2ed08d4a36b1",
   "metadata": {},
   "outputs": [
    {
     "name": "stdout",
     "output_type": "stream",
     "text": [
      "Requirement already satisfied: pandas in d:\\python\\amazon_project\\venv\\lib\\site-packages (2.2.3)\n",
      "Requirement already satisfied: numpy in d:\\python\\amazon_project\\venv\\lib\\site-packages (2.2.5)\n",
      "Requirement already satisfied: scikit-learn in d:\\python\\amazon_project\\venv\\lib\\site-packages (1.6.1)\n",
      "Requirement already satisfied: xgboost in d:\\python\\amazon_project\\venv\\lib\\site-packages (3.0.0)\n",
      "Requirement already satisfied: matplotlib in d:\\python\\amazon_project\\venv\\lib\\site-packages (3.10.3)\n",
      "Requirement already satisfied: seaborn in d:\\python\\amazon_project\\venv\\lib\\site-packages (0.13.2)\n",
      "Requirement already satisfied: geopy in d:\\python\\amazon_project\\venv\\lib\\site-packages (2.4.1)\n",
      "Requirement already satisfied: streamlit in d:\\python\\amazon_project\\venv\\lib\\site-packages (1.45.0)\n",
      "Collecting mlflow\n",
      "  Using cached mlflow-2.22.0-py3-none-any.whl.metadata (30 kB)\n",
      "Requirement already satisfied: python-dateutil>=2.8.2 in d:\\python\\amazon_project\\venv\\lib\\site-packages (from pandas) (2.9.0.post0)\n",
      "Requirement already satisfied: pytz>=2020.1 in d:\\python\\amazon_project\\venv\\lib\\site-packages (from pandas) (2025.2)\n",
      "Requirement already satisfied: tzdata>=2022.7 in d:\\python\\amazon_project\\venv\\lib\\site-packages (from pandas) (2025.2)\n",
      "Requirement already satisfied: scipy>=1.6.0 in d:\\python\\amazon_project\\venv\\lib\\site-packages (from scikit-learn) (1.15.3)\n",
      "Requirement already satisfied: joblib>=1.2.0 in d:\\python\\amazon_project\\venv\\lib\\site-packages (from scikit-learn) (1.5.0)\n",
      "Requirement already satisfied: threadpoolctl>=3.1.0 in d:\\python\\amazon_project\\venv\\lib\\site-packages (from scikit-learn) (3.6.0)\n",
      "Requirement already satisfied: contourpy>=1.0.1 in d:\\python\\amazon_project\\venv\\lib\\site-packages (from matplotlib) (1.3.2)\n",
      "Requirement already satisfied: cycler>=0.10 in d:\\python\\amazon_project\\venv\\lib\\site-packages (from matplotlib) (0.12.1)\n",
      "Requirement already satisfied: fonttools>=4.22.0 in d:\\python\\amazon_project\\venv\\lib\\site-packages (from matplotlib) (4.58.0)\n",
      "Requirement already satisfied: kiwisolver>=1.3.1 in d:\\python\\amazon_project\\venv\\lib\\site-packages (from matplotlib) (1.4.8)\n",
      "Requirement already satisfied: packaging>=20.0 in d:\\python\\amazon_project\\venv\\lib\\site-packages (from matplotlib) (24.2)\n",
      "Requirement already satisfied: pillow>=8 in d:\\python\\amazon_project\\venv\\lib\\site-packages (from matplotlib) (11.2.1)\n",
      "Requirement already satisfied: pyparsing>=2.3.1 in d:\\python\\amazon_project\\venv\\lib\\site-packages (from matplotlib) (3.2.3)\n",
      "Requirement already satisfied: geographiclib<3,>=1.52 in d:\\python\\amazon_project\\venv\\lib\\site-packages (from geopy) (2.0)\n",
      "Requirement already satisfied: altair<6,>=4.0 in d:\\python\\amazon_project\\venv\\lib\\site-packages (from streamlit) (5.5.0)\n",
      "Requirement already satisfied: blinker<2,>=1.5.0 in d:\\python\\amazon_project\\venv\\lib\\site-packages (from streamlit) (1.9.0)\n",
      "Requirement already satisfied: cachetools<6,>=4.0 in d:\\python\\amazon_project\\venv\\lib\\site-packages (from streamlit) (5.5.2)\n",
      "Requirement already satisfied: click<9,>=7.0 in d:\\python\\amazon_project\\venv\\lib\\site-packages (from streamlit) (8.2.0)\n",
      "Requirement already satisfied: protobuf<7,>=3.20 in d:\\python\\amazon_project\\venv\\lib\\site-packages (from streamlit) (6.30.2)\n",
      "Requirement already satisfied: pyarrow>=7.0 in d:\\python\\amazon_project\\venv\\lib\\site-packages (from streamlit) (19.0.1)\n",
      "Requirement already satisfied: requests<3,>=2.27 in d:\\python\\amazon_project\\venv\\lib\\site-packages (from streamlit) (2.32.3)\n",
      "Requirement already satisfied: tenacity<10,>=8.1.0 in d:\\python\\amazon_project\\venv\\lib\\site-packages (from streamlit) (9.1.2)\n",
      "Requirement already satisfied: toml<2,>=0.10.1 in d:\\python\\amazon_project\\venv\\lib\\site-packages (from streamlit) (0.10.2)\n",
      "Requirement already satisfied: typing-extensions<5,>=4.4.0 in d:\\python\\amazon_project\\venv\\lib\\site-packages (from streamlit) (4.13.2)\n",
      "Requirement already satisfied: watchdog<7,>=2.1.5 in d:\\python\\amazon_project\\venv\\lib\\site-packages (from streamlit) (6.0.0)\n",
      "Requirement already satisfied: gitpython!=3.1.19,<4,>=3.0.7 in d:\\python\\amazon_project\\venv\\lib\\site-packages (from streamlit) (3.1.44)\n",
      "Requirement already satisfied: pydeck<1,>=0.8.0b4 in d:\\python\\amazon_project\\venv\\lib\\site-packages (from streamlit) (0.9.1)\n",
      "Requirement already satisfied: tornado<7,>=6.0.3 in d:\\python\\amazon_project\\venv\\lib\\site-packages (from streamlit) (6.4.2)\n",
      "Requirement already satisfied: mlflow-skinny==2.22.0 in d:\\python\\amazon_project\\venv\\lib\\site-packages (from mlflow) (2.22.0)\n",
      "Requirement already satisfied: Flask<4 in d:\\python\\amazon_project\\venv\\lib\\site-packages (from mlflow) (3.1.0)\n",
      "Requirement already satisfied: Jinja2<4,>=3.0 in d:\\python\\amazon_project\\venv\\lib\\site-packages (from mlflow) (3.1.6)\n",
      "Requirement already satisfied: alembic!=1.10.0,<2 in d:\\python\\amazon_project\\venv\\lib\\site-packages (from mlflow) (1.15.2)\n",
      "Requirement already satisfied: docker<8,>=4.0.0 in d:\\python\\amazon_project\\venv\\lib\\site-packages (from mlflow) (7.1.0)\n",
      "Requirement already satisfied: graphene<4 in d:\\python\\amazon_project\\venv\\lib\\site-packages (from mlflow) (3.4.3)\n",
      "Requirement already satisfied: markdown<4,>=3.3 in d:\\python\\amazon_project\\venv\\lib\\site-packages (from mlflow) (3.8)\n",
      "Requirement already satisfied: sqlalchemy<3,>=1.4.0 in d:\\python\\amazon_project\\venv\\lib\\site-packages (from mlflow) (2.0.40)\n",
      "Requirement already satisfied: waitress<4 in d:\\python\\amazon_project\\venv\\lib\\site-packages (from mlflow) (3.0.2)\n",
      "Requirement already satisfied: cloudpickle<4 in d:\\python\\amazon_project\\venv\\lib\\site-packages (from mlflow-skinny==2.22.0->mlflow) (3.1.1)\n",
      "Requirement already satisfied: databricks-sdk<1,>=0.20.0 in d:\\python\\amazon_project\\venv\\lib\\site-packages (from mlflow-skinny==2.22.0->mlflow) (0.52.0)\n",
      "Requirement already satisfied: fastapi<1 in d:\\python\\amazon_project\\venv\\lib\\site-packages (from mlflow-skinny==2.22.0->mlflow) (0.115.12)\n",
      "Requirement already satisfied: importlib_metadata!=4.7.0,<9,>=3.7.0 in d:\\python\\amazon_project\\venv\\lib\\site-packages (from mlflow-skinny==2.22.0->mlflow) (8.6.1)\n",
      "Requirement already satisfied: opentelemetry-api<3,>=1.9.0 in d:\\python\\amazon_project\\venv\\lib\\site-packages (from mlflow-skinny==2.22.0->mlflow) (1.33.0)\n",
      "Requirement already satisfied: opentelemetry-sdk<3,>=1.9.0 in d:\\python\\amazon_project\\venv\\lib\\site-packages (from mlflow-skinny==2.22.0->mlflow) (1.33.0)\n",
      "Requirement already satisfied: pydantic<3,>=1.10.8 in d:\\python\\amazon_project\\venv\\lib\\site-packages (from mlflow-skinny==2.22.0->mlflow) (2.11.4)\n",
      "Requirement already satisfied: pyyaml<7,>=5.1 in d:\\python\\amazon_project\\venv\\lib\\site-packages (from mlflow-skinny==2.22.0->mlflow) (6.0.2)\n",
      "Requirement already satisfied: sqlparse<1,>=0.4.0 in d:\\python\\amazon_project\\venv\\lib\\site-packages (from mlflow-skinny==2.22.0->mlflow) (0.5.3)\n",
      "Requirement already satisfied: uvicorn<1 in d:\\python\\amazon_project\\venv\\lib\\site-packages (from mlflow-skinny==2.22.0->mlflow) (0.34.2)\n",
      "Requirement already satisfied: Mako in d:\\python\\amazon_project\\venv\\lib\\site-packages (from alembic!=1.10.0,<2->mlflow) (1.3.10)\n",
      "Requirement already satisfied: jsonschema>=3.0 in d:\\python\\amazon_project\\venv\\lib\\site-packages (from altair<6,>=4.0->streamlit) (4.23.0)\n",
      "Requirement already satisfied: narwhals>=1.14.2 in d:\\python\\amazon_project\\venv\\lib\\site-packages (from altair<6,>=4.0->streamlit) (1.39.0)\n",
      "Requirement already satisfied: colorama in d:\\python\\amazon_project\\venv\\lib\\site-packages (from click<9,>=7.0->streamlit) (0.4.6)\n",
      "Requirement already satisfied: pywin32>=304 in d:\\python\\amazon_project\\venv\\lib\\site-packages (from docker<8,>=4.0.0->mlflow) (310)\n",
      "Requirement already satisfied: urllib3>=1.26.0 in d:\\python\\amazon_project\\venv\\lib\\site-packages (from docker<8,>=4.0.0->mlflow) (2.4.0)\n",
      "Requirement already satisfied: Werkzeug>=3.1 in d:\\python\\amazon_project\\venv\\lib\\site-packages (from Flask<4->mlflow) (3.1.3)\n",
      "Requirement already satisfied: itsdangerous>=2.2 in d:\\python\\amazon_project\\venv\\lib\\site-packages (from Flask<4->mlflow) (2.2.0)\n",
      "Requirement already satisfied: gitdb<5,>=4.0.1 in d:\\python\\amazon_project\\venv\\lib\\site-packages (from gitpython!=3.1.19,<4,>=3.0.7->streamlit) (4.0.12)\n",
      "Requirement already satisfied: graphql-core<3.3,>=3.1 in d:\\python\\amazon_project\\venv\\lib\\site-packages (from graphene<4->mlflow) (3.2.6)\n",
      "Requirement already satisfied: graphql-relay<3.3,>=3.1 in d:\\python\\amazon_project\\venv\\lib\\site-packages (from graphene<4->mlflow) (3.2.0)\n",
      "Requirement already satisfied: MarkupSafe>=2.0 in d:\\python\\amazon_project\\venv\\lib\\site-packages (from Jinja2<4,>=3.0->mlflow) (3.0.2)\n",
      "Requirement already satisfied: six>=1.5 in d:\\python\\amazon_project\\venv\\lib\\site-packages (from python-dateutil>=2.8.2->pandas) (1.17.0)\n",
      "Requirement already satisfied: charset-normalizer<4,>=2 in d:\\python\\amazon_project\\venv\\lib\\site-packages (from requests<3,>=2.27->streamlit) (3.4.2)\n",
      "Requirement already satisfied: idna<4,>=2.5 in d:\\python\\amazon_project\\venv\\lib\\site-packages (from requests<3,>=2.27->streamlit) (3.10)\n",
      "Requirement already satisfied: certifi>=2017.4.17 in d:\\python\\amazon_project\\venv\\lib\\site-packages (from requests<3,>=2.27->streamlit) (2025.4.26)\n",
      "Requirement already satisfied: greenlet>=1 in d:\\python\\amazon_project\\venv\\lib\\site-packages (from sqlalchemy<3,>=1.4.0->mlflow) (3.2.2)\n",
      "Requirement already satisfied: google-auth~=2.0 in d:\\python\\amazon_project\\venv\\lib\\site-packages (from databricks-sdk<1,>=0.20.0->mlflow-skinny==2.22.0->mlflow) (2.40.1)\n",
      "Requirement already satisfied: starlette<0.47.0,>=0.40.0 in d:\\python\\amazon_project\\venv\\lib\\site-packages (from fastapi<1->mlflow-skinny==2.22.0->mlflow) (0.46.2)\n",
      "Requirement already satisfied: smmap<6,>=3.0.1 in d:\\python\\amazon_project\\venv\\lib\\site-packages (from gitdb<5,>=4.0.1->gitpython!=3.1.19,<4,>=3.0.7->streamlit) (5.0.2)\n",
      "Requirement already satisfied: zipp>=3.20 in d:\\python\\amazon_project\\venv\\lib\\site-packages (from importlib_metadata!=4.7.0,<9,>=3.7.0->mlflow-skinny==2.22.0->mlflow) (3.21.0)\n",
      "Requirement already satisfied: attrs>=22.2.0 in d:\\python\\amazon_project\\venv\\lib\\site-packages (from jsonschema>=3.0->altair<6,>=4.0->streamlit) (25.3.0)\n",
      "Requirement already satisfied: jsonschema-specifications>=2023.03.6 in d:\\python\\amazon_project\\venv\\lib\\site-packages (from jsonschema>=3.0->altair<6,>=4.0->streamlit) (2025.4.1)\n",
      "Requirement already satisfied: referencing>=0.28.4 in d:\\python\\amazon_project\\venv\\lib\\site-packages (from jsonschema>=3.0->altair<6,>=4.0->streamlit) (0.36.2)\n",
      "Requirement already satisfied: rpds-py>=0.7.1 in d:\\python\\amazon_project\\venv\\lib\\site-packages (from jsonschema>=3.0->altair<6,>=4.0->streamlit) (0.24.0)\n",
      "Requirement already satisfied: deprecated>=1.2.6 in d:\\python\\amazon_project\\venv\\lib\\site-packages (from opentelemetry-api<3,>=1.9.0->mlflow-skinny==2.22.0->mlflow) (1.2.18)\n",
      "Requirement already satisfied: opentelemetry-semantic-conventions==0.54b0 in d:\\python\\amazon_project\\venv\\lib\\site-packages (from opentelemetry-sdk<3,>=1.9.0->mlflow-skinny==2.22.0->mlflow) (0.54b0)\n",
      "Requirement already satisfied: annotated-types>=0.6.0 in d:\\python\\amazon_project\\venv\\lib\\site-packages (from pydantic<3,>=1.10.8->mlflow-skinny==2.22.0->mlflow) (0.7.0)\n",
      "Requirement already satisfied: pydantic-core==2.33.2 in d:\\python\\amazon_project\\venv\\lib\\site-packages (from pydantic<3,>=1.10.8->mlflow-skinny==2.22.0->mlflow) (2.33.2)\n",
      "Requirement already satisfied: typing-inspection>=0.4.0 in d:\\python\\amazon_project\\venv\\lib\\site-packages (from pydantic<3,>=1.10.8->mlflow-skinny==2.22.0->mlflow) (0.4.0)\n",
      "Requirement already satisfied: h11>=0.8 in d:\\python\\amazon_project\\venv\\lib\\site-packages (from uvicorn<1->mlflow-skinny==2.22.0->mlflow) (0.16.0)\n",
      "Requirement already satisfied: wrapt<2,>=1.10 in d:\\python\\amazon_project\\venv\\lib\\site-packages (from deprecated>=1.2.6->opentelemetry-api<3,>=1.9.0->mlflow-skinny==2.22.0->mlflow) (1.17.2)\n",
      "Requirement already satisfied: pyasn1-modules>=0.2.1 in d:\\python\\amazon_project\\venv\\lib\\site-packages (from google-auth~=2.0->databricks-sdk<1,>=0.20.0->mlflow-skinny==2.22.0->mlflow) (0.4.2)\n",
      "Requirement already satisfied: rsa<5,>=3.1.4 in d:\\python\\amazon_project\\venv\\lib\\site-packages (from google-auth~=2.0->databricks-sdk<1,>=0.20.0->mlflow-skinny==2.22.0->mlflow) (4.9.1)\n",
      "Requirement already satisfied: anyio<5,>=3.6.2 in d:\\python\\amazon_project\\venv\\lib\\site-packages (from starlette<0.47.0,>=0.40.0->fastapi<1->mlflow-skinny==2.22.0->mlflow) (4.9.0)\n",
      "Requirement already satisfied: sniffio>=1.1 in d:\\python\\amazon_project\\venv\\lib\\site-packages (from anyio<5,>=3.6.2->starlette<0.47.0,>=0.40.0->fastapi<1->mlflow-skinny==2.22.0->mlflow) (1.3.1)\n",
      "Requirement already satisfied: pyasn1<0.7.0,>=0.6.1 in d:\\python\\amazon_project\\venv\\lib\\site-packages (from pyasn1-modules>=0.2.1->google-auth~=2.0->databricks-sdk<1,>=0.20.0->mlflow-skinny==2.22.0->mlflow) (0.6.1)\n",
      "Using cached mlflow-2.22.0-py3-none-any.whl (29.0 MB)\n",
      "Installing collected packages: mlflow\n"
     ]
    },
    {
     "name": "stderr",
     "output_type": "stream",
     "text": [
      "ERROR: Could not install packages due to an OSError: [WinError 32] The process cannot access the file because it is being used by another process: 'D:\\\\Python\\\\amazon_project\\\\venv\\\\Lib\\\\site-packages\\\\mlflow\\\\keras\\\\callback.py'\n",
      "Check the permissions.\n",
      "\n",
      "\n",
      "[notice] A new release of pip is available: 24.3.1 -> 25.1.1\n",
      "[notice] To update, run: python.exe -m pip install --upgrade pip\n"
     ]
    }
   ],
   "source": [
    "!pip install pandas numpy scikit-learn xgboost matplotlib seaborn geopy streamlit mlflow\n"
   ]
  },
  {
   "cell_type": "code",
   "execution_count": 5,
   "id": "280b6e2d-5f34-41c5-9658-7136f17dd97b",
   "metadata": {},
   "outputs": [],
   "source": [
    "import os\n",
    "\n",
    "folders = ['data', 'notebooks', 'scripts', 'models', 'app', 'mlruns']\n",
    "\n",
    "for folder in folders:\n",
    "    os.makedirs(folder, exist_ok=True)\n"
   ]
  },
  {
   "cell_type": "code",
   "execution_count": 7,
   "id": "d8a7c6d1-e9f9-4de4-8a8e-4ee1c27715fc",
   "metadata": {},
   "outputs": [
    {
     "ename": "NotADirectoryError",
     "evalue": "[WinError 267] The directory name is invalid: 'D:\\\\Python\\\\amazon_project\\\\amazon_delivery.csv'",
     "output_type": "error",
     "traceback": [
      "\u001b[31m---------------------------------------------------------------------------\u001b[39m",
      "\u001b[31mNotADirectoryError\u001b[39m                        Traceback (most recent call last)",
      "\u001b[36mCell\u001b[39m\u001b[36m \u001b[39m\u001b[32mIn[7]\u001b[39m\u001b[32m, line 2\u001b[39m\n\u001b[32m      1\u001b[39m \u001b[38;5;66;03m# To check if the file is present\u001b[39;00m\n\u001b[32m----> \u001b[39m\u001b[32m2\u001b[39m \u001b[43mos\u001b[49m\u001b[43m.\u001b[49m\u001b[43mlistdir\u001b[49m\u001b[43m(\u001b[49m\u001b[33;43mr\u001b[39;49m\u001b[33;43m'\u001b[39;49m\u001b[33;43mD:\u001b[39;49m\u001b[33;43m\\\u001b[39;49m\u001b[33;43mPython\u001b[39;49m\u001b[33;43m\\\u001b[39;49m\u001b[33;43mamazon_project\u001b[39;49m\u001b[33;43m\\\u001b[39;49m\u001b[33;43mamazon_delivery.csv\u001b[39;49m\u001b[33;43m'\u001b[39;49m\u001b[43m)\u001b[49m\n",
      "\u001b[31mNotADirectoryError\u001b[39m: [WinError 267] The directory name is invalid: 'D:\\\\Python\\\\amazon_project\\\\amazon_delivery.csv'"
     ]
    }
   ],
   "source": [
    "# To check if the file is present\n",
    "os.listdir(r'D:\\Python\\amazon_project\\amazon_delivery.csv')\n"
   ]
  },
  {
   "cell_type": "code",
   "execution_count": null,
   "id": "a094bd19-ee3c-470f-80d7-cb9e82b5339d",
   "metadata": {},
   "outputs": [],
   "source": []
  }
 ],
 "metadata": {
  "kernelspec": {
   "display_name": "Python 3 (ipykernel)",
   "language": "python",
   "name": "python3"
  },
  "language_info": {
   "codemirror_mode": {
    "name": "ipython",
    "version": 3
   },
   "file_extension": ".py",
   "mimetype": "text/x-python",
   "name": "python",
   "nbconvert_exporter": "python",
   "pygments_lexer": "ipython3",
   "version": "3.13.1"
  }
 },
 "nbformat": 4,
 "nbformat_minor": 5
}
